{
  "nbformat": 4,
  "nbformat_minor": 0,
  "metadata": {
    "colab": {
      "name": "AA_PRACTICA2_GRUPO_6",
      "provenance": []
    },
    "kernelspec": {
      "name": "python3",
      "display_name": "Python 3"
    },
    "language_info": {
      "name": "python"
    },
    "accelerator": "GPU"
  },
  "cells": [
    {
      "cell_type": "markdown",
      "metadata": {
        "id": "4pHFf2taVVoj"
      },
      "source": [
        "## GRUPO 6\n",
        "##PEDRO GARCÍA SILGO\n",
        "## JAVIER RODRIGUEZ GARCÍA\n",
        "\n",
        "# INTRODUCCIÓN AL PROBLEMA\n",
        "Crea  un  modelo  de  Red  de  Neuronas  Convolucionales  que  sea  capaz  de  reconocer  y clasificar  imágenes  de  ropa  en  sus  diferentes  tipologías.  Este  modelo  será  definido, configurado, entrenado, evaluado y mejorado para posteriormente usarlo para hacer predicciones.  \n",
        "Para ello tendréis que crear un modelo en Keras aplicando de una tirada todos los pasos al conjunto de datos Fashion-MNIST, precargado en Keras y que ya habéis utilizado para la práctica 1. \n",
        "Fashion-MNIST  es  un  conjunto  de  datos  de  las  imágenes  de  los  artículos  de  Zalando (www.zalando.com),  una  tienda  de  moda  online  alemana  especializada  en  ventas  de ropa y zapatos. El conjunto de datos contiene 70K imágenes en escala de grises en 10 categorías.  Estas  imágenes  muestran  prendas  individuales  de  ropa  en  baja  resolución \n",
        "(28 x 28 píxeles): "
      ]
    },
    {
      "cell_type": "markdown",
      "metadata": {
        "id": "qJ0DaQWoWP4K"
      },
      "source": [
        "A continuación se importan todas las librerías necesarias para realizar la Red.\n"
      ]
    },
    {
      "cell_type": "code",
      "metadata": {
        "colab": {
          "base_uri": "https://localhost:8080/"
        },
        "id": "Fe6j2aL8WYvB",
        "outputId": "7696f7bb-69b7-4d0c-e067-b11169b3ec69"
      },
      "source": [
        "#Se importan las librerías principales para operar y diseñar la red.\n",
        "%tensorflow_version 2.x\n",
        "import tensorflow as tf\n",
        "from tensorflow import keras\n",
        "\n",
        "import numpy as np\n",
        "import matplotlib.pyplot as plt\n",
        "\n",
        "print(tf.__version__)\n",
        "\n",
        "#Importamos las librerías para diseñar la parte convolucionar\n",
        "from tensorflow.keras import Sequential\n",
        "from tensorflow.keras.layers import Conv2D\n",
        "from tensorflow.keras.layers import MaxPooling2D\n",
        "\n",
        "from tensorflow.keras.layers import Dense\n",
        "from tensorflow.keras.layers import Flatten\n",
        "\n",
        "#Importamos los datos de Minst\n",
        "from keras.utils.np_utils import to_categorical\n",
        "\n",
        "from keras import losses\n",
        "from keras import metrics"
      ],
      "execution_count": null,
      "outputs": [
        {
          "output_type": "stream",
          "name": "stdout",
          "text": [
            "2.7.0\n"
          ]
        }
      ]
    },
    {
      "cell_type": "markdown",
      "metadata": {
        "id": "YzRmZXy-XXYp"
      },
      "source": [
        "También nos garantizamos que tenemos la versión actualizada de Tensor Flow."
      ]
    },
    {
      "cell_type": "markdown",
      "metadata": {
        "id": "zCaoMRCNXfq7"
      },
      "source": [
        "A continuación cargamos los datos de Zalando."
      ]
    },
    {
      "cell_type": "code",
      "metadata": {
        "id": "sNE1ayX-Xlzz",
        "colab": {
          "base_uri": "https://localhost:8080/"
        },
        "outputId": "74cce30d-634d-45bb-fed5-c6e51868f36f"
      },
      "source": [
        "#CARGAMOS EL CONJUNTO DE DATOS DE ZALANDO\n",
        "fashion_mnist = tf.keras.datasets.fashion_mnist\n",
        "(train_images, train_labels), (test_images, test_labels) = fashion_mnist.load_data()\n",
        "(train_images0, train_labels0), (test_images0, test_labels0) = (train_images, train_labels), (test_images, test_labels)"
      ],
      "execution_count": null,
      "outputs": [
        {
          "output_type": "stream",
          "name": "stdout",
          "text": [
            "Downloading data from https://storage.googleapis.com/tensorflow/tf-keras-datasets/train-labels-idx1-ubyte.gz\n",
            "32768/29515 [=================================] - 0s 0us/step\n",
            "40960/29515 [=========================================] - 0s 0us/step\n",
            "Downloading data from https://storage.googleapis.com/tensorflow/tf-keras-datasets/train-images-idx3-ubyte.gz\n",
            "26427392/26421880 [==============================] - 0s 0us/step\n",
            "26435584/26421880 [==============================] - 0s 0us/step\n",
            "Downloading data from https://storage.googleapis.com/tensorflow/tf-keras-datasets/t10k-labels-idx1-ubyte.gz\n",
            "16384/5148 [===============================================================================================] - 0s 0us/step\n",
            "Downloading data from https://storage.googleapis.com/tensorflow/tf-keras-datasets/t10k-images-idx3-ubyte.gz\n",
            "4423680/4422102 [==============================] - 0s 0us/step\n",
            "4431872/4422102 [==============================] - 0s 0us/step\n"
          ]
        }
      ]
    },
    {
      "cell_type": "markdown",
      "metadata": {
        "id": "Q_B1h-lxZtO6"
      },
      "source": [
        "Y a cada una de las imágenes que hemos importado tienen asignada una etiqueta que indica qué prenda de ropa es cada imagen:\n",
        "\n",
        "0.   Camiseta\n",
        "1.   Pantalón\n",
        "2.   Jersey\n",
        "3.   Vestido\n",
        "4.   Cazadora\n",
        "5.   Sandalia\n",
        "6.   Camisa\n",
        "7.   Zapatillas\n",
        "8.   Bolso\n",
        "9.   Bota"
      ]
    },
    {
      "cell_type": "markdown",
      "metadata": {
        "id": "nc9Aufx-Xvtg"
      },
      "source": [
        "Comprobamos que hemos cargado bien los datos con un ejemplo:"
      ]
    },
    {
      "cell_type": "code",
      "metadata": {
        "colab": {
          "base_uri": "https://localhost:8080/"
        },
        "id": "DlNoCkMfX0Qo",
        "outputId": "72cce14c-acef-48c3-f90b-2efec1d7dba1"
      },
      "source": [
        "print(train_images.shape)\n",
        "# Vemos la matriz de la imagen número 1 (28x28)\n",
        "print(train_images[5])\n",
        "print(train_labels[5])"
      ],
      "execution_count": null,
      "outputs": [
        {
          "output_type": "stream",
          "name": "stdout",
          "text": [
            "(60000, 28, 28)\n",
            "[[  0   0   0   0   1   0   0   0   0  22  88 188 172 132 125 141 199 143\n",
            "    9   0   0   0   1   0   0   0   0   0]\n",
            " [  0   0   0   1   0   0  20 131 199 206 196 202 242 255 255 250 222 197\n",
            "  206 188 126  17   0   0   0   0   0   0]\n",
            " [  0   0   0   1   0  35 214 191 183 178 175 168 150 162 159 152 158 179\n",
            "  183 189 195 185  82   0   0   0   0   0]\n",
            " [  0   0   0   0   0 170 190 172 177 176 171 169 162 155 148 154 169 174\n",
            "  175 175 177 183 188  12   0   0   0   0]\n",
            " [  0   0   0   0  25 194 180 178 174 184 187 189 187 184 181 189 200 197\n",
            "  193 190 178 175 194  90   0   0   0   0]\n",
            " [  0   0   0   0  42 218 191 197 208 204 211 209 210 212 211 214 215 213\n",
            "  214 211 211 191 200 158   0   0   0   0]\n",
            " [  0   0   0   0  88 221 215 217 219 211 185 150 118 107  99  88  83  90\n",
            "  135 212 203 207 219 169   0   0   0   0]\n",
            " [  0   0   0   0   0  27 118 162  40   0   0   0  10  19  28  39  47  36\n",
            "    0   0 203 230 220 203   0   0   0   0]\n",
            " [  0   0   0   0 138 136  71  69  54 216 217 203 184 168 163 162 163 178\n",
            "  221 186  38  26   7   0   0   0   0   0]\n",
            " [  0   0   0   0  67 134 154 224 129  66  81 117 129 128 132 137 131 129\n",
            "   86  73 157 151 134 216  18   0   0   0]\n",
            " [  0   0   0   0 203 198 172 183 206 255 255 250 243 240 239 235 238 244\n",
            "  255 238 184 160  86  98   0   0   0   0]\n",
            " [  0   0   0   0 122 188 224 151 105 127  97 100 105 114 117 117 113 103\n",
            "   98 111 142 254 191 255  49   0   0   0]\n",
            " [  0   0   0   0 163 179 200  95 154 198 197 200 200 198 197 198 199 202\n",
            "  200 176  86 206 157 162  10   0   0   0]\n",
            " [  0   0   0   0 197 201 229  71 144 194 181 183 179 182 180 179 180 190\n",
            "  185 197  76 219 185 201  34   0   0   0]\n",
            " [  0   0   0   0 199 193 226  58 154 192 184 187 184 186 184 185 183 192\n",
            "  191 200  56 219 203 207  60   0   0   0]\n",
            " [  0   0   0   0 201 194 224  41 163 190 186 186 184 185 183 185 178 190\n",
            "  194 202  33 211 200 206  73   0   0   0]\n",
            " [  0   0   0   0 201 197 222  17 172 190 186 187 182 186 185 187 180 187\n",
            "  193 202  26 212 202 203  76   0   0   0]\n",
            " [  0   0   0   0 200 197 223   0 177 189 184 185 178 184 183 184 180 183\n",
            "  189 203  35 196 203 203  84   0   0   0]\n",
            " [  0   0   0   0 200 197 223   0 185 187 185 187 180 184 182 183 178 182\n",
            "  183 205  44 159 207 201  85   0   0   0]\n",
            " [  0   0   0   0 187 198 225   0 194 188 184 185 180 183 183 184 181 181\n",
            "  177 206  46 129 211 200  88   0   0   0]\n",
            " [  0   0   0   6 186 200 211   0 199 189 184 184 185 182 183 184 185 182\n",
            "  175 205  50  97 216 197  93   0   0   0]\n",
            " [  0   0   0   5 185 204 184   0 202 188 182 182 183 183 184 182 180 182\n",
            "  174 202  63  59 220 196  94   0   0   0]\n",
            " [  0   0   0   5 184 206 157   0 204 187 187 189 192 190 190 191 190 187\n",
            "  183 202  78  35 222 197  95   0   0   0]\n",
            " [  0   0   0   5 183 208 127   0 197 166 153 149 149 146 148 149 150 151\n",
            "  158 191  90   8 223 195  99   0   0   0]\n",
            " [  0   0   0   6 184 208 114   0 204 173 161 180 176 172 173 173 174 176\n",
            "  162 202 115   0 229 199 105   0   0   0]\n",
            " [  0   0   0   9 178 204 115   0 121 135 114 117 114 114 117 118 119 117\n",
            "  113 147  63   0 225 196 107   0   0   0]\n",
            " [  0   0   0  18 180 206 131   0   0   0   0   0   0   0   0   0   0   0\n",
            "    0   0   0   0 224 197 123   0   0   0]\n",
            " [  0   0   0   0 141 151  76   0   1   1   0   0   0   0   0   0   0   0\n",
            "    0   0   0   0 133 167  73   0   0   0]]\n",
            "2\n"
          ]
        }
      ]
    },
    {
      "cell_type": "markdown",
      "metadata": {
        "id": "yNdi-caMZFqQ"
      },
      "source": [
        "![Prueba2.PNG](data:image/png;base64,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)\n",
        "\n",
        "Esta es la primera imagen, lo que parece un jersey. La etiqueta es el 2, osea un jersey."
      ]
    },
    {
      "cell_type": "code",
      "metadata": {
        "colab": {
          "base_uri": "https://localhost:8080/",
          "height": 265
        },
        "id": "jtepAyZGYk_K",
        "outputId": "71cd9748-61c8-4440-a881-200b179ad546"
      },
      "source": [
        "imagen = train_images[5]\n",
        "plt.imshow(imagen, cmap=plt.cm.binary)\n",
        "plt.show()"
      ],
      "execution_count": null,
      "outputs": [
        {
          "output_type": "display_data",
          "data": {
            "image/png": "[encoded data removed]",
            "text/plain": [
              "<Figure size 432x288 with 1 Axes>"
            ]
          },
          "metadata": {
            "needs_background": "light"
          }
        }
      ]
    },
    {
      "cell_type": "markdown",
      "metadata": {
        "id": "j96MuKOqZ7dC"
      },
      "source": [
        "Esta es una imagen del jersey pintado con matliblob."
      ]
    },
    {
      "cell_type": "markdown",
      "metadata": {
        "id": "oITskR8fc5p3"
      },
      "source": [
        "A continuación diseñamos las distintas arquitecturas de redes convolucionales para los dististos casos.\n",
        "\n",
        "\n",
        "\n",
        "\n",
        "\n",
        "\n"
      ]
    },
    {
      "cell_type": "markdown",
      "metadata": {
        "id": "zdWhcLIbcrhp"
      },
      "source": [
        "#Caso 1\n"
      ]
    },
    {
      "cell_type": "markdown",
      "metadata": {
        "id": "Uh-fY4wFct6I"
      },
      "source": [
        "Para el primer caso, la arquitecura queda de esta manera:"
      ]
    },
    {
      "cell_type": "markdown",
      "metadata": {
        "id": "jue7FcK0Y-GN"
      },
      "source": [
        "##Preparación"
      ]
    },
    {
      "cell_type": "code",
      "metadata": {
        "colab": {
          "base_uri": "https://localhost:8080/"
        },
        "id": "5UXK-_pRdM95",
        "outputId": "45e02e28-03c0-4347-a6cd-f4ae1460b588"
      },
      "source": [
        "model = Sequential()\n",
        "model.add(Conv2D(32, (5, 5), activation='relu', input_shape=(28, 28, 1), name='Capa1'))\n",
        "model.add(MaxPooling2D((2, 2)))\n",
        "model.summary()"
      ],
      "execution_count": 23,
      "outputs": [
        {
          "output_type": "stream",
          "name": "stdout",
          "text": [
            "Model: \"sequential_1\"\n",
            "_________________________________________________________________\n",
            " Layer (type)                Output Shape              Param #   \n",
            "=================================================================\n",
            " Capa1 (Conv2D)              (None, 24, 24, 32)        832       \n",
            "                                                                 \n",
            " max_pooling2d_2 (MaxPooling  (None, 12, 12, 32)       0         \n",
            " 2D)                                                             \n",
            "                                                                 \n",
            "=================================================================\n",
            "Total params: 832\n",
            "Trainable params: 832\n",
            "Non-trainable params: 0\n",
            "_________________________________________________________________\n"
          ]
        }
      ]
    },
    {
      "cell_type": "code",
      "metadata": {
        "colab": {
          "base_uri": "https://localhost:8080/"
        },
        "id": "VzaZL4QLdv3R",
        "outputId": "b9ddedc8-1a00-4524-8f99-06ba0b099670"
      },
      "source": [
        "model.add(Conv2D(64, (5, 5), activation='relu', name='Capa2'))\n",
        "model.add(MaxPooling2D((2, 2)))\n",
        "model.summary()"
      ],
      "execution_count": 24,
      "outputs": [
        {
          "output_type": "stream",
          "name": "stdout",
          "text": [
            "Model: \"sequential_1\"\n",
            "_________________________________________________________________\n",
            " Layer (type)                Output Shape              Param #   \n",
            "=================================================================\n",
            " Capa1 (Conv2D)              (None, 24, 24, 32)        832       \n",
            "                                                                 \n",
            " max_pooling2d_2 (MaxPooling  (None, 12, 12, 32)       0         \n",
            " 2D)                                                             \n",
            "                                                                 \n",
            " Capa2 (Conv2D)              (None, 8, 8, 64)          51264     \n",
            "                                                                 \n",
            " max_pooling2d_3 (MaxPooling  (None, 4, 4, 64)         0         \n",
            " 2D)                                                             \n",
            "                                                                 \n",
            "=================================================================\n",
            "Total params: 52,096\n",
            "Trainable params: 52,096\n",
            "Non-trainable params: 0\n",
            "_________________________________________________________________\n"
          ]
        }
      ]
    },
    {
      "cell_type": "markdown",
      "metadata": {
        "id": "dhhDcKZveqJA"
      },
      "source": [
        "Antes de seguir, tenemos que \"aplanar\" los datos a un vector de dimensión 1. Para ello usamos flattern"
      ]
    },
    {
      "cell_type": "code",
      "metadata": {
        "colab": {
          "base_uri": "https://localhost:8080/"
        },
        "id": "sfmHm19Yey9A",
        "outputId": "b5879ce6-1d7f-4d46-e0e4-36de261aff15"
      },
      "source": [
        "model.add(Flatten())\n",
        "model.add(Dense(10, activation='softmax'))\n",
        "model.summary()"
      ],
      "execution_count": 25,
      "outputs": [
        {
          "output_type": "stream",
          "name": "stdout",
          "text": [
            "Model: \"sequential_1\"\n",
            "_________________________________________________________________\n",
            " Layer (type)                Output Shape              Param #   \n",
            "=================================================================\n",
            " Capa1 (Conv2D)              (None, 24, 24, 32)        832       \n",
            "                                                                 \n",
            " max_pooling2d_2 (MaxPooling  (None, 12, 12, 32)       0         \n",
            " 2D)                                                             \n",
            "                                                                 \n",
            " Capa2 (Conv2D)              (None, 8, 8, 64)          51264     \n",
            "                                                                 \n",
            " max_pooling2d_3 (MaxPooling  (None, 4, 4, 64)         0         \n",
            " 2D)                                                             \n",
            "                                                                 \n",
            " flatten_1 (Flatten)         (None, 1024)              0         \n",
            "                                                                 \n",
            " dense_1 (Dense)             (None, 10)                10250     \n",
            "                                                                 \n",
            "=================================================================\n",
            "Total params: 62,346\n",
            "Trainable params: 62,346\n",
            "Non-trainable params: 0\n",
            "_________________________________________________________________\n"
          ]
        }
      ]
    },
    {
      "cell_type": "markdown",
      "metadata": {
        "id": "DPG1zkV0e_zh"
      },
      "source": [
        "Ahora preparamos las imágenes para la implementación posterior."
      ]
    },
    {
      "cell_type": "code",
      "metadata": {
        "colab": {
          "base_uri": "https://localhost:8080/"
        },
        "id": "ddYnNyzsfTEm",
        "outputId": "6431ef0f-9cca-429d-b05f-328802198bc6"
      },
      "source": [
        "print (train_images.shape)\n",
        "print (train_labels.shape)"
      ],
      "execution_count": 26,
      "outputs": [
        {
          "output_type": "stream",
          "name": "stdout",
          "text": [
            "(60000, 28, 28)\n",
            "(60000,)\n"
          ]
        }
      ]
    },
    {
      "cell_type": "code",
      "metadata": {
        "colab": {
          "base_uri": "https://localhost:8080/"
        },
        "id": "RwElRzeNfR_Z",
        "outputId": "a7dbe08b-2740-4172-f4f6-82cda84d5497"
      },
      "source": [
        "#train_images = train_images.reshape((60000, 28, 28, 1))\n",
        "train_images = train_images.astype('float32') / 255\n",
        "\n",
        "#test_images = test_images.reshape((10000, 28, 28, 1))\n",
        "test_images = test_images.astype('float32') / 255\n",
        "\n",
        "\n",
        "print (train_images.shape)\n",
        "print (train_labels.shape)"
      ],
      "execution_count": 27,
      "outputs": [
        {
          "output_type": "stream",
          "name": "stdout",
          "text": [
            "(60000, 28, 28)\n",
            "(60000,)\n"
          ]
        }
      ]
    },
    {
      "cell_type": "markdown",
      "metadata": {
        "id": "VdMOgxk9gI-Y"
      },
      "source": [
        "Y por último, entrenamos la red con los datos, pero vamos a ver cuántas épocas poner. Para ello, lo probaremos con parte de los datos de entrenamiento."
      ]
    },
    {
      "cell_type": "markdown",
      "metadata": {
        "id": "wvwyfBsXWe1u"
      },
      "source": [
        "##Prueba\n"
      ]
    },
    {
      "cell_type": "code",
      "metadata": {
        "colab": {
          "base_uri": "https://localhost:8080/"
        },
        "id": "Js6nwREQgXK_",
        "outputId": "c20bda05-2f7b-4047-8c9e-87df6b3648c3"
      },
      "source": [
        "entrenaimagen = train_images[:20000]\n",
        "entrenalabel = train_labels[:20000]\n",
        "val_imagen = train_images[20000:]\n",
        "val_label = train_labels[20000:]\n",
        "print(entrenaimagen.shape)\n",
        "print(entrenalabel.shape)"
      ],
      "execution_count": 28,
      "outputs": [
        {
          "output_type": "stream",
          "name": "stdout",
          "text": [
            "(20000, 28, 28)\n",
            "(20000,)\n"
          ]
        }
      ]
    },
    {
      "cell_type": "code",
      "metadata": {
        "colab": {
          "base_uri": "https://localhost:8080/"
        },
        "id": "GVvvNAhChK9g",
        "outputId": "4dfcf15a-81e5-41f2-cde9-4986b9c09309"
      },
      "source": [
        "model.compile(loss='sparse_categorical_crossentropy',\n",
        "              optimizer='sgd',\n",
        "              metrics=['accuracy'])\n",
        "\n",
        "history = model.fit(entrenaimagen, \n",
        "                    entrenalabel,\n",
        "                    batch_size=100,\n",
        "                    epochs=100,\n",
        "                    validation_data =(val_imagen, val_label))\n",
        "\n"
      ],
      "execution_count": 29,
      "outputs": [
        {
          "output_type": "stream",
          "name": "stdout",
          "text": [
            "Epoch 1/100\n",
            "200/200 [==============================] - 3s 15ms/step - loss: 2.3024 - accuracy: 0.1075 - val_loss: 2.3024 - val_accuracy: 0.1653\n",
            "Epoch 2/100\n",
            "200/200 [==============================] - 3s 13ms/step - loss: 2.3023 - accuracy: 0.1054 - val_loss: 2.3025 - val_accuracy: 0.0983\n",
            "Epoch 3/100\n",
            "200/200 [==============================] - 3s 14ms/step - loss: 2.3023 - accuracy: 0.1045 - val_loss: 2.3025 - val_accuracy: 0.0983\n",
            "Epoch 4/100\n",
            "200/200 [==============================] - 3s 14ms/step - loss: 2.3023 - accuracy: 0.1034 - val_loss: 2.3025 - val_accuracy: 0.0983\n",
            "Epoch 5/100\n",
            "200/200 [==============================] - 3s 13ms/step - loss: 2.3022 - accuracy: 0.1034 - val_loss: 2.3025 - val_accuracy: 0.0983\n",
            "Epoch 6/100\n",
            "200/200 [==============================] - 3s 14ms/step - loss: 2.3022 - accuracy: 0.1034 - val_loss: 2.3026 - val_accuracy: 0.0983\n",
            "Epoch 7/100\n",
            "200/200 [==============================] - 3s 14ms/step - loss: 2.3022 - accuracy: 0.1034 - val_loss: 2.3025 - val_accuracy: 0.0983\n",
            "Epoch 8/100\n",
            "200/200 [==============================] - 3s 13ms/step - loss: 2.3022 - accuracy: 0.1034 - val_loss: 2.3026 - val_accuracy: 0.0983\n",
            "Epoch 9/100\n",
            "200/200 [==============================] - 3s 14ms/step - loss: 2.3022 - accuracy: 0.1034 - val_loss: 2.3025 - val_accuracy: 0.0983\n",
            "Epoch 10/100\n",
            "200/200 [==============================] - 3s 14ms/step - loss: 2.3022 - accuracy: 0.1034 - val_loss: 2.3025 - val_accuracy: 0.0983\n",
            "Epoch 11/100\n",
            "200/200 [==============================] - 3s 14ms/step - loss: 2.3022 - accuracy: 0.1034 - val_loss: 2.3025 - val_accuracy: 0.0983\n",
            "Epoch 12/100\n",
            "200/200 [==============================] - 3s 13ms/step - loss: 2.3022 - accuracy: 0.1034 - val_loss: 2.3025 - val_accuracy: 0.0983\n",
            "Epoch 13/100\n",
            "200/200 [==============================] - 3s 13ms/step - loss: 2.3021 - accuracy: 0.1034 - val_loss: 2.3025 - val_accuracy: 0.0983\n",
            "Epoch 14/100\n",
            "200/200 [==============================] - 3s 13ms/step - loss: 2.3021 - accuracy: 0.1034 - val_loss: 2.3025 - val_accuracy: 0.0983\n",
            "Epoch 15/100\n",
            "200/200 [==============================] - 3s 13ms/step - loss: 2.3021 - accuracy: 0.1034 - val_loss: 2.3025 - val_accuracy: 0.0983\n",
            "Epoch 16/100\n",
            "200/200 [==============================] - 3s 13ms/step - loss: 2.3021 - accuracy: 0.1034 - val_loss: 2.3025 - val_accuracy: 0.0983\n",
            "Epoch 17/100\n",
            "200/200 [==============================] - 3s 13ms/step - loss: 2.3021 - accuracy: 0.1034 - val_loss: 2.3024 - val_accuracy: 0.0983\n",
            "Epoch 18/100\n",
            "200/200 [==============================] - 3s 13ms/step - loss: 2.3021 - accuracy: 0.1034 - val_loss: 2.3024 - val_accuracy: 0.0983\n",
            "Epoch 19/100\n",
            "200/200 [==============================] - 3s 13ms/step - loss: 2.3021 - accuracy: 0.1034 - val_loss: 2.3024 - val_accuracy: 0.0983\n",
            "Epoch 20/100\n",
            "200/200 [==============================] - 3s 13ms/step - loss: 2.3020 - accuracy: 0.1034 - val_loss: 2.3024 - val_accuracy: 0.0983\n",
            "Epoch 21/100\n",
            "200/200 [==============================] - 3s 13ms/step - loss: 2.3021 - accuracy: 0.1034 - val_loss: 2.3024 - val_accuracy: 0.0983\n",
            "Epoch 22/100\n",
            "200/200 [==============================] - 2s 12ms/step - loss: 2.3020 - accuracy: 0.1034 - val_loss: 2.3024 - val_accuracy: 0.0983\n",
            "Epoch 23/100\n",
            "200/200 [==============================] - 3s 13ms/step - loss: 2.3020 - accuracy: 0.1034 - val_loss: 2.3024 - val_accuracy: 0.0983\n",
            "Epoch 24/100\n",
            "200/200 [==============================] - 3s 13ms/step - loss: 2.3020 - accuracy: 0.1034 - val_loss: 2.3024 - val_accuracy: 0.0983\n",
            "Epoch 25/100\n",
            "200/200 [==============================] - 3s 13ms/step - loss: 2.3020 - accuracy: 0.1034 - val_loss: 2.3024 - val_accuracy: 0.0983\n",
            "Epoch 26/100\n",
            "200/200 [==============================] - 3s 13ms/step - loss: 2.3020 - accuracy: 0.1034 - val_loss: 2.3023 - val_accuracy: 0.0983\n",
            "Epoch 27/100\n",
            "200/200 [==============================] - 2s 12ms/step - loss: 2.3020 - accuracy: 0.1034 - val_loss: 2.3023 - val_accuracy: 0.0983\n",
            "Epoch 28/100\n",
            "200/200 [==============================] - 2s 13ms/step - loss: 2.3019 - accuracy: 0.1034 - val_loss: 2.3023 - val_accuracy: 0.0983\n",
            "Epoch 29/100\n",
            "200/200 [==============================] - 2s 12ms/step - loss: 2.3019 - accuracy: 0.1034 - val_loss: 2.3023 - val_accuracy: 0.0983\n",
            "Epoch 30/100\n",
            "200/200 [==============================] - 2s 12ms/step - loss: 2.3019 - accuracy: 0.1034 - val_loss: 2.3022 - val_accuracy: 0.0983\n",
            "Epoch 31/100\n",
            "200/200 [==============================] - 2s 12ms/step - loss: 2.3019 - accuracy: 0.1034 - val_loss: 2.3022 - val_accuracy: 0.0983\n",
            "Epoch 32/100\n",
            "200/200 [==============================] - 3s 13ms/step - loss: 2.3018 - accuracy: 0.1034 - val_loss: 2.3022 - val_accuracy: 0.0983\n",
            "Epoch 33/100\n",
            "200/200 [==============================] - 3s 13ms/step - loss: 2.3018 - accuracy: 0.1034 - val_loss: 2.3022 - val_accuracy: 0.0983\n",
            "Epoch 34/100\n",
            "200/200 [==============================] - 2s 12ms/step - loss: 2.3018 - accuracy: 0.1034 - val_loss: 2.3022 - val_accuracy: 0.0983\n",
            "Epoch 35/100\n",
            "200/200 [==============================] - 2s 12ms/step - loss: 2.3018 - accuracy: 0.1034 - val_loss: 2.3021 - val_accuracy: 0.0983\n",
            "Epoch 36/100\n",
            "200/200 [==============================] - 2s 12ms/step - loss: 2.3018 - accuracy: 0.1034 - val_loss: 2.3021 - val_accuracy: 0.0983\n",
            "Epoch 37/100\n",
            "200/200 [==============================] - 3s 13ms/step - loss: 2.3017 - accuracy: 0.1034 - val_loss: 2.3021 - val_accuracy: 0.0983\n",
            "Epoch 38/100\n",
            "200/200 [==============================] - 3s 13ms/step - loss: 2.3017 - accuracy: 0.1034 - val_loss: 2.3020 - val_accuracy: 0.0983\n",
            "Epoch 39/100\n",
            "200/200 [==============================] - 3s 13ms/step - loss: 2.3017 - accuracy: 0.1034 - val_loss: 2.3020 - val_accuracy: 0.0983\n",
            "Epoch 40/100\n",
            "200/200 [==============================] - 3s 13ms/step - loss: 2.3016 - accuracy: 0.1034 - val_loss: 2.3020 - val_accuracy: 0.0983\n",
            "Epoch 41/100\n",
            "200/200 [==============================] - 2s 12ms/step - loss: 2.3016 - accuracy: 0.1035 - val_loss: 2.3019 - val_accuracy: 0.0983\n",
            "Epoch 42/100\n",
            "200/200 [==============================] - 3s 13ms/step - loss: 2.3016 - accuracy: 0.1034 - val_loss: 2.3019 - val_accuracy: 0.0983\n",
            "Epoch 43/100\n",
            "200/200 [==============================] - 3s 13ms/step - loss: 2.3015 - accuracy: 0.1034 - val_loss: 2.3019 - val_accuracy: 0.0983\n",
            "Epoch 44/100\n",
            "200/200 [==============================] - 3s 13ms/step - loss: 2.3015 - accuracy: 0.1034 - val_loss: 2.3018 - val_accuracy: 0.0983\n",
            "Epoch 45/100\n",
            "200/200 [==============================] - 3s 13ms/step - loss: 2.3015 - accuracy: 0.1034 - val_loss: 2.3018 - val_accuracy: 0.0983\n",
            "Epoch 46/100\n",
            "200/200 [==============================] - 3s 13ms/step - loss: 2.3014 - accuracy: 0.1034 - val_loss: 2.3018 - val_accuracy: 0.0983\n",
            "Epoch 47/100\n",
            "200/200 [==============================] - 3s 13ms/step - loss: 2.3014 - accuracy: 0.1034 - val_loss: 2.3017 - val_accuracy: 0.0983\n",
            "Epoch 48/100\n",
            "200/200 [==============================] - 3s 13ms/step - loss: 2.3013 - accuracy: 0.1034 - val_loss: 2.3017 - val_accuracy: 0.0983\n",
            "Epoch 49/100\n",
            "200/200 [==============================] - 3s 13ms/step - loss: 2.3013 - accuracy: 0.1071 - val_loss: 2.3016 - val_accuracy: 0.0983\n",
            "Epoch 50/100\n",
            "200/200 [==============================] - 3s 14ms/step - loss: 2.3012 - accuracy: 0.1034 - val_loss: 2.3016 - val_accuracy: 0.0983\n",
            "Epoch 51/100\n",
            "200/200 [==============================] - 3s 13ms/step - loss: 2.3012 - accuracy: 0.1034 - val_loss: 2.3016 - val_accuracy: 0.0983\n",
            "Epoch 52/100\n",
            "200/200 [==============================] - 3s 13ms/step - loss: 2.3011 - accuracy: 0.1034 - val_loss: 2.3015 - val_accuracy: 0.0983\n",
            "Epoch 53/100\n",
            "200/200 [==============================] - 3s 13ms/step - loss: 2.3011 - accuracy: 0.1034 - val_loss: 2.3014 - val_accuracy: 0.0983\n",
            "Epoch 54/100\n",
            "200/200 [==============================] - 2s 13ms/step - loss: 2.3010 - accuracy: 0.1073 - val_loss: 2.3014 - val_accuracy: 0.0983\n",
            "Epoch 55/100\n",
            "200/200 [==============================] - 3s 13ms/step - loss: 2.3009 - accuracy: 0.1067 - val_loss: 2.3013 - val_accuracy: 0.0983\n",
            "Epoch 56/100\n",
            "200/200 [==============================] - 3s 13ms/step - loss: 2.3009 - accuracy: 0.1033 - val_loss: 2.3013 - val_accuracy: 0.0983\n",
            "Epoch 57/100\n",
            "200/200 [==============================] - 3s 13ms/step - loss: 2.3008 - accuracy: 0.1148 - val_loss: 2.3011 - val_accuracy: 0.0983\n",
            "Epoch 58/100\n",
            "200/200 [==============================] - 3s 13ms/step - loss: 2.3008 - accuracy: 0.1035 - val_loss: 2.3011 - val_accuracy: 0.0983\n",
            "Epoch 59/100\n",
            "200/200 [==============================] - 3s 13ms/step - loss: 2.3007 - accuracy: 0.1081 - val_loss: 2.3010 - val_accuracy: 0.0983\n",
            "Epoch 60/100\n",
            "200/200 [==============================] - 3s 13ms/step - loss: 2.3006 - accuracy: 0.1138 - val_loss: 2.3010 - val_accuracy: 0.0983\n",
            "Epoch 61/100\n",
            "200/200 [==============================] - 3s 13ms/step - loss: 2.3005 - accuracy: 0.1187 - val_loss: 2.3008 - val_accuracy: 0.0983\n",
            "Epoch 62/100\n",
            "200/200 [==============================] - 3s 13ms/step - loss: 2.3004 - accuracy: 0.1043 - val_loss: 2.3008 - val_accuracy: 0.0983\n",
            "Epoch 63/100\n",
            "200/200 [==============================] - 2s 12ms/step - loss: 2.3004 - accuracy: 0.1208 - val_loss: 2.3006 - val_accuracy: 0.0983\n",
            "Epoch 64/100\n",
            "200/200 [==============================] - 3s 13ms/step - loss: 2.3002 - accuracy: 0.1137 - val_loss: 2.3005 - val_accuracy: 0.0983\n",
            "Epoch 65/100\n",
            "200/200 [==============================] - 3s 13ms/step - loss: 2.3001 - accuracy: 0.1131 - val_loss: 2.3004 - val_accuracy: 0.0983\n",
            "Epoch 66/100\n",
            "200/200 [==============================] - 3s 13ms/step - loss: 2.3000 - accuracy: 0.1132 - val_loss: 2.3003 - val_accuracy: 0.0983\n",
            "Epoch 67/100\n",
            "200/200 [==============================] - 3s 13ms/step - loss: 2.2999 - accuracy: 0.1101 - val_loss: 2.3002 - val_accuracy: 0.0983\n",
            "Epoch 68/100\n",
            "200/200 [==============================] - 3s 14ms/step - loss: 2.2997 - accuracy: 0.1104 - val_loss: 2.3000 - val_accuracy: 0.0983\n",
            "Epoch 69/100\n",
            "200/200 [==============================] - 3s 13ms/step - loss: 2.2996 - accuracy: 0.1117 - val_loss: 2.3000 - val_accuracy: 0.1491\n",
            "Epoch 70/100\n",
            "200/200 [==============================] - 3s 13ms/step - loss: 2.2995 - accuracy: 0.1320 - val_loss: 2.2998 - val_accuracy: 0.0983\n",
            "Epoch 71/100\n",
            "200/200 [==============================] - 3s 13ms/step - loss: 2.2993 - accuracy: 0.1151 - val_loss: 2.2996 - val_accuracy: 0.0983\n",
            "Epoch 72/100\n",
            "200/200 [==============================] - 3s 13ms/step - loss: 2.2991 - accuracy: 0.1162 - val_loss: 2.2993 - val_accuracy: 0.0983\n",
            "Epoch 73/100\n",
            "200/200 [==============================] - 3s 13ms/step - loss: 2.2989 - accuracy: 0.1111 - val_loss: 2.2992 - val_accuracy: 0.0983\n",
            "Epoch 74/100\n",
            "200/200 [==============================] - 3s 13ms/step - loss: 2.2987 - accuracy: 0.1233 - val_loss: 2.2990 - val_accuracy: 0.0983\n",
            "Epoch 75/100\n",
            "200/200 [==============================] - 3s 13ms/step - loss: 2.2985 - accuracy: 0.1211 - val_loss: 2.2987 - val_accuracy: 0.0983\n",
            "Epoch 76/100\n",
            "200/200 [==============================] - 3s 13ms/step - loss: 2.2983 - accuracy: 0.1259 - val_loss: 2.2985 - val_accuracy: 0.0983\n",
            "Epoch 77/100\n",
            "200/200 [==============================] - 3s 13ms/step - loss: 2.2980 - accuracy: 0.1279 - val_loss: 2.2983 - val_accuracy: 0.1315\n",
            "Epoch 78/100\n",
            "200/200 [==============================] - 3s 13ms/step - loss: 2.2978 - accuracy: 0.1167 - val_loss: 2.2979 - val_accuracy: 0.0983\n",
            "Epoch 79/100\n",
            "200/200 [==============================] - 3s 13ms/step - loss: 2.2974 - accuracy: 0.1231 - val_loss: 2.2977 - val_accuracy: 0.1736\n",
            "Epoch 80/100\n",
            "200/200 [==============================] - 3s 13ms/step - loss: 2.2972 - accuracy: 0.1326 - val_loss: 2.2973 - val_accuracy: 0.1529\n",
            "Epoch 81/100\n",
            "200/200 [==============================] - 3s 13ms/step - loss: 2.2968 - accuracy: 0.1342 - val_loss: 2.2970 - val_accuracy: 0.1706\n",
            "Epoch 82/100\n",
            "200/200 [==============================] - 3s 13ms/step - loss: 2.2964 - accuracy: 0.1401 - val_loss: 2.2966 - val_accuracy: 0.1727\n",
            "Epoch 83/100\n",
            "200/200 [==============================] - 3s 13ms/step - loss: 2.2961 - accuracy: 0.1304 - val_loss: 2.2962 - val_accuracy: 0.1654\n",
            "Epoch 84/100\n",
            "200/200 [==============================] - 3s 14ms/step - loss: 2.2956 - accuracy: 0.1364 - val_loss: 2.2957 - val_accuracy: 0.2139\n",
            "Epoch 85/100\n",
            "200/200 [==============================] - 3s 14ms/step - loss: 2.2951 - accuracy: 0.1406 - val_loss: 2.2951 - val_accuracy: 0.0983\n",
            "Epoch 86/100\n",
            "200/200 [==============================] - 3s 13ms/step - loss: 2.2946 - accuracy: 0.1400 - val_loss: 2.2946 - val_accuracy: 0.1963\n",
            "Epoch 87/100\n",
            "200/200 [==============================] - 3s 13ms/step - loss: 2.2940 - accuracy: 0.1394 - val_loss: 2.2945 - val_accuracy: 0.1032\n",
            "Epoch 88/100\n",
            "200/200 [==============================] - 3s 13ms/step - loss: 2.2934 - accuracy: 0.1408 - val_loss: 2.2938 - val_accuracy: 0.1094\n",
            "Epoch 89/100\n",
            "200/200 [==============================] - 2s 12ms/step - loss: 2.2928 - accuracy: 0.1424 - val_loss: 2.2925 - val_accuracy: 0.1663\n",
            "Epoch 90/100\n",
            "200/200 [==============================] - 3s 13ms/step - loss: 2.2919 - accuracy: 0.1540 - val_loss: 2.2917 - val_accuracy: 0.1099\n",
            "Epoch 91/100\n",
            "200/200 [==============================] - 3s 13ms/step - loss: 2.2910 - accuracy: 0.1635 - val_loss: 2.2918 - val_accuracy: 0.0983\n",
            "Epoch 92/100\n",
            "200/200 [==============================] - 3s 13ms/step - loss: 2.2901 - accuracy: 0.1546 - val_loss: 2.2897 - val_accuracy: 0.1629\n",
            "Epoch 93/100\n",
            "200/200 [==============================] - 3s 13ms/step - loss: 2.2891 - accuracy: 0.1574 - val_loss: 2.2886 - val_accuracy: 0.2351\n",
            "Epoch 94/100\n",
            "200/200 [==============================] - 3s 13ms/step - loss: 2.2879 - accuracy: 0.1732 - val_loss: 2.2873 - val_accuracy: 0.2908\n",
            "Epoch 95/100\n",
            "200/200 [==============================] - 3s 13ms/step - loss: 2.2866 - accuracy: 0.1849 - val_loss: 2.2862 - val_accuracy: 0.1035\n",
            "Epoch 96/100\n",
            "200/200 [==============================] - 3s 14ms/step - loss: 2.2851 - accuracy: 0.2010 - val_loss: 2.2846 - val_accuracy: 0.2012\n",
            "Epoch 97/100\n",
            "200/200 [==============================] - 3s 13ms/step - loss: 2.2835 - accuracy: 0.2091 - val_loss: 2.2829 - val_accuracy: 0.1160\n",
            "Epoch 98/100\n",
            "200/200 [==============================] - 3s 14ms/step - loss: 2.2817 - accuracy: 0.2029 - val_loss: 2.2805 - val_accuracy: 0.3377\n",
            "Epoch 99/100\n",
            "200/200 [==============================] - 3s 13ms/step - loss: 2.2797 - accuracy: 0.2218 - val_loss: 2.2786 - val_accuracy: 0.1282\n",
            "Epoch 100/100\n",
            "200/200 [==============================] - 3s 13ms/step - loss: 2.2776 - accuracy: 0.2297 - val_loss: 2.2778 - val_accuracy: 0.1038\n"
          ]
        }
      ]
    },
    {
      "cell_type": "code",
      "metadata": {
        "id": "PXNE-8bplM6f",
        "colab": {
          "base_uri": "https://localhost:8080/"
        },
        "outputId": "3dec6d96-f73d-46a2-dbce-ffe36dbff13a"
      },
      "source": [
        "history_dict = history.history\n",
        "history_dict.keys()\n",
        "print(history_dict['loss'])\n",
        "print(history_dict['accuracy'])\n",
        "print(history_dict['val_loss'])\n",
        "print(history_dict['val_accuracy'])"
      ],
      "execution_count": 30,
      "outputs": [
        {
          "output_type": "stream",
          "name": "stdout",
          "text": [
            "[2.30238676071167, 2.302342176437378, 2.3022942543029785, 2.3022592067718506, 2.302245855331421, 2.3022396564483643, 2.302227258682251, 2.3022148609161377, 2.302204132080078, 2.302196741104126, 2.3021602630615234, 2.3021726608276367, 2.3021395206451416, 2.3021440505981445, 2.3021349906921387, 2.302119731903076, 2.3020997047424316, 2.302096366882324, 2.3020801544189453, 2.3020427227020264, 2.30206036567688, 2.3020317554473877, 2.302006721496582, 2.3020012378692627, 2.301950693130493, 2.301980972290039, 2.3019516468048096, 2.3019301891326904, 2.301903247833252, 2.301879405975342, 2.301872968673706, 2.3018484115600586, 2.3018150329589844, 2.301802635192871, 2.301786422729492, 2.301757574081421, 2.3017210960388184, 2.301692247390747, 2.3016674518585205, 2.3016409873962402, 2.3016016483306885, 2.3015799522399902, 2.301544427871704, 2.301513195037842, 2.3014538288116455, 2.3014321327209473, 2.3013932704925537, 2.301339626312256, 2.3013010025024414, 2.30122971534729, 2.3012096881866455, 2.3011481761932373, 2.301098346710205, 2.301011800765991, 2.300948143005371, 2.300920009613037, 2.3008198738098145, 2.3007688522338867, 2.3007006645202637, 2.300569534301758, 2.300518274307251, 2.3004062175750732, 2.3003523349761963, 2.3002452850341797, 2.3001134395599365, 2.3000121116638184, 2.2999110221862793, 2.299743890762329, 2.299602508544922, 2.299455165863037, 2.299315929412842, 2.299098253250122, 2.2989304065704346, 2.298729658126831, 2.2985050678253174, 2.298269033432007, 2.2980406284332275, 2.297762870788574, 2.297429323196411, 2.2972025871276855, 2.296830177307129, 2.2964274883270264, 2.296086311340332, 2.2955801486968994, 2.2951369285583496, 2.2946200370788574, 2.2940032482147217, 2.293391704559326, 2.29276967048645, 2.291916608810425, 2.290982961654663, 2.2900731563568115, 2.2891435623168945, 2.2878525257110596, 2.286602258682251, 2.2850940227508545, 2.283515453338623, 2.2816877365112305, 2.2797186374664307, 2.2775745391845703]\n",
            "[0.10745000094175339, 0.10535000264644623, 0.10454999655485153, 0.10339999943971634, 0.10339999943971634, 0.10339999943971634, 0.10339999943971634, 0.10339999943971634, 0.10339999943971634, 0.10339999943971634, 0.10339999943971634, 0.10339999943971634, 0.10339999943971634, 0.10339999943971634, 0.10339999943971634, 0.10339999943971634, 0.10339999943971634, 0.10339999943971634, 0.10339999943971634, 0.10339999943971634, 0.10339999943971634, 0.10339999943971634, 0.10339999943971634, 0.10339999943971634, 0.10339999943971634, 0.10339999943971634, 0.10339999943971634, 0.10339999943971634, 0.10339999943971634, 0.10339999943971634, 0.10339999943971634, 0.10339999943971634, 0.10339999943971634, 0.10339999943971634, 0.10339999943971634, 0.10339999943971634, 0.10339999943971634, 0.10339999943971634, 0.10339999943971634, 0.10339999943971634, 0.1034500002861023, 0.10339999943971634, 0.10339999943971634, 0.10339999943971634, 0.10339999943971634, 0.10339999943971634, 0.10339999943971634, 0.10339999943971634, 0.10705000162124634, 0.10339999943971634, 0.10339999943971634, 0.10339999943971634, 0.10339999943971634, 0.10729999840259552, 0.10665000230073929, 0.10334999859333038, 0.11479999870061874, 0.1034500002861023, 0.10814999788999557, 0.11375000327825546, 0.11874999850988388, 0.10429999977350235, 0.12075000256299973, 0.11365000158548355, 0.11309999972581863, 0.11315000057220459, 0.11010000109672546, 0.1103999987244606, 0.11169999837875366, 0.13199999928474426, 0.11505000293254852, 0.11620000004768372, 0.11110000312328339, 0.12325000017881393, 0.12110000103712082, 0.12585000693798065, 0.12794999778270721, 0.11670000106096268, 0.12314999848604202, 0.13259999454021454, 0.13420000672340393, 0.14014999568462372, 0.13040000200271606, 0.13644999265670776, 0.14055000245571136, 0.1400499939918518, 0.13940000534057617, 0.14079999923706055, 0.1423500031232834, 0.15399999916553497, 0.16345000267028809, 0.15459999442100525, 0.15735000371932983, 0.17319999635219574, 0.18485000729560852, 0.20104999840259552, 0.20909999310970306, 0.2029000073671341, 0.22175000607967377, 0.2296999990940094]\n",
            "[2.3023979663848877, 2.3024659156799316, 2.3025033473968506, 2.302534580230713, 2.3025400638580322, 2.3025500774383545, 2.302548885345459, 2.3025524616241455, 2.302549362182617, 2.3025455474853516, 2.302548408508301, 2.3025317192077637, 2.3025104999542236, 2.302485942840576, 2.302485227584839, 2.3024682998657227, 2.3024442195892334, 2.3024258613586426, 2.302422046661377, 2.3024096488952637, 2.302400827407837, 2.302403211593628, 2.3023881912231445, 2.302380323410034, 2.302382469177246, 2.3023452758789062, 2.3023273944854736, 2.302306652069092, 2.30228590965271, 2.3022360801696777, 2.302225112915039, 2.3022029399871826, 2.3022053241729736, 2.3021719455718994, 2.3021464347839355, 2.302114725112915, 2.302093982696533, 2.3020429611206055, 2.3020129203796387, 2.301978826522827, 2.30194091796875, 2.3019258975982666, 2.3018767833709717, 2.301819324493408, 2.301814556121826, 2.3017737865448, 2.3017232418060303, 2.301680326461792, 2.3016414642333984, 2.301586866378784, 2.301562786102295, 2.3014912605285645, 2.3014285564422607, 2.301361083984375, 2.3013460636138916, 2.3012595176696777, 2.3011441230773926, 2.3010737895965576, 2.300978422164917, 2.3009984493255615, 2.3008363246917725, 2.30082368850708, 2.300633668899536, 2.3005363941192627, 2.300417184829712, 2.300292491912842, 2.300166130065918, 2.3000378608703613, 2.3000171184539795, 2.2997729778289795, 2.299558639526367, 2.2993412017822266, 2.299215316772461, 2.29895281791687, 2.298701047897339, 2.298490047454834, 2.298252582550049, 2.2979187965393066, 2.297712802886963, 2.297332763671875, 2.297006845474243, 2.2966389656066895, 2.2962393760681152, 2.29569411277771, 2.2951059341430664, 2.294616937637329, 2.294466018676758, 2.2937557697296143, 2.292509078979492, 2.2916903495788574, 2.2918102741241455, 2.28971266746521, 2.288569211959839, 2.2873404026031494, 2.2861998081207275, 2.28462815284729, 2.282928228378296, 2.280541181564331, 2.2785956859588623, 2.2777724266052246]\n",
            "[0.1652749925851822, 0.09830000251531601, 0.09830000251531601, 0.09830000251531601, 0.09830000251531601, 0.09830000251531601, 0.09830000251531601, 0.09830000251531601, 0.09830000251531601, 0.09830000251531601, 0.09830000251531601, 0.09830000251531601, 0.09830000251531601, 0.09830000251531601, 0.09830000251531601, 0.09830000251531601, 0.09830000251531601, 0.09830000251531601, 0.09830000251531601, 0.09830000251531601, 0.09830000251531601, 0.09830000251531601, 0.09830000251531601, 0.09830000251531601, 0.09830000251531601, 0.09830000251531601, 0.09830000251531601, 0.09830000251531601, 0.09830000251531601, 0.09830000251531601, 0.09830000251531601, 0.09830000251531601, 0.09830000251531601, 0.09830000251531601, 0.09830000251531601, 0.09830000251531601, 0.09830000251531601, 0.09830000251531601, 0.09830000251531601, 0.09830000251531601, 0.09830000251531601, 0.09830000251531601, 0.09830000251531601, 0.09830000251531601, 0.09830000251531601, 0.09830000251531601, 0.09830000251531601, 0.09830000251531601, 0.09830000251531601, 0.09830000251531601, 0.09830000251531601, 0.09830000251531601, 0.09830000251531601, 0.09830000251531601, 0.09830000251531601, 0.09830000251531601, 0.09830000251531601, 0.09830000251531601, 0.09830000251531601, 0.09830000251531601, 0.09830000251531601, 0.09830000251531601, 0.09830000251531601, 0.09830000251531601, 0.09830000251531601, 0.09830000251531601, 0.09830000251531601, 0.09830000251531601, 0.14914999902248383, 0.09830000251531601, 0.09830000251531601, 0.09830000251531601, 0.09830000251531601, 0.09830000251531601, 0.09830000251531601, 0.09830000251531601, 0.1315000057220459, 0.09830000251531601, 0.1736000031232834, 0.15285000205039978, 0.17057499289512634, 0.1726749986410141, 0.16535000503063202, 0.2138500064611435, 0.09830000251531601, 0.19629999995231628, 0.10322500020265579, 0.10935000330209732, 0.1662999987602234, 0.10992500185966492, 0.09830000251531601, 0.16292500495910645, 0.23510000109672546, 0.290800005197525, 0.1034500002861023, 0.20115000009536743, 0.11597499996423721, 0.337675005197525, 0.12822499871253967, 0.10384999960660934]\n"
          ]
        }
      ]
    },
    {
      "cell_type": "code",
      "metadata": {
        "id": "RamtVrnRhqAH",
        "colab": {
          "base_uri": "https://localhost:8080/",
          "height": 0
        },
        "outputId": "b5c8329b-3216-441a-e1c8-139c109dae15"
      },
      "source": [
        "acc = history.history['accuracy']\n",
        "val_acc = history.history['val_accuracy']\n",
        "loss = history.history['loss']\n",
        "val_loss = history.history['val_loss']\n",
        "\n",
        "epochs = range(1, len(acc) + 1)\n",
        "\n",
        "# \"bo\" es para \"punto azun\"\n",
        "plt.plot(epochs, loss, 'bo', label='Pérdida de Entrenamiento')\n",
        "# \"b\" es para \"linea continua azul\"\n",
        "plt.plot(epochs, val_loss, 'b', label='Pérdida de Validación')\n",
        "plt.title('Pérdida de Entrenamiento y Validación')\n",
        "plt.xlabel('Epochs')\n",
        "plt.ylabel('Loss')\n",
        "plt.legend()\n",
        "\n",
        "plt.show()"
      ],
      "execution_count": 31,
      "outputs": [
        {
          "output_type": "display_data",
          "data": {
            "image/png": "[encoded data removed]",
            "text/plain": [
              "<Figure size 432x288 with 1 Axes>"
            ]
          },
          "metadata": {
            "needs_background": "light"
          }
        }
      ]
    },
    {
      "cell_type": "code",
      "metadata": {
        "colab": {
          "base_uri": "https://localhost:8080/",
          "height": 0
        },
        "id": "oQTutcBZBbb9",
        "outputId": "a0c5da14-5a3c-4123-ff66-b65446f0fb9b"
      },
      "source": [
        "plt.clf()   # Limpia la figura\n",
        "acc_values = history_dict['accuracy']\n",
        "val_acc_values = history_dict['val_accuracy']\n",
        "\n",
        "plt.plot(epochs, acc, 'bo', label='Precisión de Entrenamiento')\n",
        "plt.plot(epochs, val_acc, 'b', label='Precisión de Validación')\n",
        "plt.title('Precisión de Entrenamiento y Valización')\n",
        "plt.xlabel('Epochs')\n",
        "plt.ylabel('Loss')\n",
        "plt.legend()\n",
        "\n",
        "plt.show()"
      ],
      "execution_count": 32,
      "outputs": [
        {
          "output_type": "display_data",
          "data": {
            "image/png": "[encoded data removed]",
            "text/plain": [
              "<Figure size 432x288 with 1 Axes>"
            ]
          },
          "metadata": {
            "needs_background": "light"
          }
        }
      ]
    },
    {
      "cell_type": "code",
      "metadata": {
        "colab": {
          "base_uri": "https://localhost:8080/"
        },
        "id": "1ovnN7bTMGft",
        "outputId": "8862ca95-68dd-41e5-fd5c-9a4f0fa0aaaa"
      },
      "source": [
        "test_loss, test_acc = model.evaluate(test_images, test_labels)\n",
        "\n",
        "print('Test accuracy:', test_acc)"
      ],
      "execution_count": 33,
      "outputs": [
        {
          "output_type": "stream",
          "name": "stdout",
          "text": [
            "313/313 [==============================] - 2s 4ms/step - loss: 2.2775 - accuracy: 0.1039\n",
            "Test accuracy: 0.1039000004529953\n"
          ]
        }
      ]
    },
    {
      "cell_type": "markdown",
      "metadata": {
        "id": "pJpoL2L3J8jm"
      },
      "source": [
        "Acabamos de comprobar qué ocurre si empleamos 50 épocas al entrenamiento con parte de las imagenes de entrenamiento. Hemos visto que a partir de cierta iteración, la mejora de las neuronas baja considerablemente y podría tender a sobreentrenarse. Por lo que bajaremos el número hasta 5 iteraciones."
      ]
    },
    {
      "cell_type": "markdown",
      "metadata": {
        "id": "Nv7JNjePWjbn"
      },
      "source": [
        "##Entrenamiento\n"
      ]
    },
    {
      "cell_type": "code",
      "metadata": {
        "colab": {
          "base_uri": "https://localhost:8080/"
        },
        "id": "SETwogMnKiIB",
        "outputId": "8a7aa63a-b6b2-4d03-a6d1-39835675493e"
      },
      "source": [
        "model.fit(train_images, train_labels,\n",
        "            batch_size=100,\n",
        "            epochs=5,\n",
        "            verbose = 1)"
      ],
      "execution_count": 34,
      "outputs": [
        {
          "output_type": "stream",
          "name": "stdout",
          "text": [
            "Epoch 1/5\n",
            "600/600 [==============================] - 4s 7ms/step - loss: 2.2717 - accuracy: 0.2349\n",
            "Epoch 2/5\n",
            "600/600 [==============================] - 4s 7ms/step - loss: 2.2602 - accuracy: 0.2482\n",
            "Epoch 3/5\n",
            "600/600 [==============================] - 4s 7ms/step - loss: 2.2451 - accuracy: 0.2475\n",
            "Epoch 4/5\n",
            "600/600 [==============================] - 4s 7ms/step - loss: 2.2289 - accuracy: 0.2408\n",
            "Epoch 5/5\n",
            "600/600 [==============================] - 4s 7ms/step - loss: 2.2144 - accuracy: 0.2440\n"
          ]
        },
        {
          "output_type": "execute_result",
          "data": {
            "text/plain": [
              "<keras.callbacks.History at 0x7fad600fc890>"
            ]
          },
          "metadata": {},
          "execution_count": 34
        }
      ]
    },
    {
      "cell_type": "code",
      "metadata": {
        "id": "BOjWa2WXEBoM"
      },
      "source": [
        "test_loss, test_acc = model.evaluate(test_images, test_labels)\n",
        "\n",
        "print('Test accuracy:', test_acc)"
      ],
      "execution_count": null,
      "outputs": []
    },
    {
      "cell_type": "markdown",
      "metadata": {
        "id": "bgCkJ6b1MKgW"
      },
      "source": [
        "Comparando con la primera evaluación, al haber iterado menos, el programa está menos sobreentrenado y resuelve mejor el problema. Por lo que así quedaría la red neuronal del caso 1."
      ]
    },
    {
      "cell_type": "markdown",
      "metadata": {
        "id": "SMdQ4GWWfDYM"
      },
      "source": [
        "##Apartado 6\n"
      ]
    },
    {
      "cell_type": "markdown",
      "metadata": {
        "id": "WcY35KoGffB2"
      },
      "source": [
        "(Ponemos este apartado encima del 3 y 4 para que haga la predicción con la red neuronal del caso 1 sin editar por los otros apartados)."
      ]
    },
    {
      "cell_type": "markdown",
      "metadata": {
        "id": "XMiQL20wfFuw"
      },
      "source": [
        "Predicción: Ahora se pide hacer predicciones de los datos con las redes formadas"
      ]
    },
    {
      "cell_type": "code",
      "metadata": {
        "id": "2IB23mpigm43"
      },
      "source": [
        "def plot_image(i, predictions_array, true_label, img):\n",
        "  predictions_array, true_label, img = predictions_array, true_label[i], img[i]\n",
        "  plt.grid(False)\n",
        "  plt.xticks([])\n",
        "  plt.yticks([])\n",
        "\n",
        "  plt.imshow(img, cmap = plt.cm.binary)\n",
        "\n",
        "  predicted_label = np.argmax(predictions_array)\n",
        "  if predicted_label == true_label:\n",
        "    color = 'blue'\n",
        "  else:\n",
        "    color = 'red'\n",
        "\n",
        "  plt.xlabel(\"{} {:2.0f}% ({})\".format(predicted_label,\n",
        "                                100*np.max(predictions_array),\n",
        "                                true_label),\n",
        "                                color=color)"
      ],
      "execution_count": null,
      "outputs": []
    },
    {
      "cell_type": "code",
      "metadata": {
        "id": "blmXKlWniGRL"
      },
      "source": [
        "def plot_value_array(i, predictions_array, true_label):\n",
        "  predictions_array, true_label = predictions_array, true_label[i]\n",
        "  plt.grid(False)\n",
        "  plt.xticks(range(10))\n",
        "  plt.yticks([])\n",
        "  thisplot = plt.bar(range(10), predictions_array, color=\"#00FF00\")\n",
        "  plt.ylim([0, 1])\n",
        "  predicted_label = np.argmax(predictions_array)\n",
        "\n",
        "  thisplot[predicted_label].set_color('red')\n",
        "  thisplot[true_label].set_color('black')"
      ],
      "execution_count": null,
      "outputs": []
    },
    {
      "cell_type": "code",
      "metadata": {
        "id": "DXWo0DLsoMZ6"
      },
      "source": [
        "print(test_labels.shape)"
      ],
      "execution_count": null,
      "outputs": []
    },
    {
      "cell_type": "code",
      "metadata": {
        "id": "y7tEIlnKfx6Q"
      },
      "source": [
        "i=5\n",
        "plt.figure(figsize=(6,3))\n",
        "plt.subplot(1,2,1)\n",
        "plot_image(i, test_images[i], test_labels, test_images)\n",
        "plt.subplot(1,2,2)\n",
        "plot_value_array(i, test_images[i], test_labels)\n",
        "plt.show()"
      ],
      "execution_count": null,
      "outputs": []
    },
    {
      "cell_type": "markdown",
      "metadata": {
        "id": "ITSjicy0sLQ-"
      },
      "source": [
        "Tenemos un error para predecir en el propio algoritmo que se nos da en el enunciado de la práctica y no comprendemos el fallo, por lo que el apartado 6 no lo vamos a poder hacer en el resto de casos."
      ]
    },
    {
      "cell_type": "markdown",
      "metadata": {
        "id": "uf3bsKgGZLES"
      },
      "source": [
        "##Apartado 3."
      ]
    },
    {
      "cell_type": "markdown",
      "metadata": {
        "id": "9eu4GEEEZM2X"
      },
      "source": [
        "Para este apartado, emplearemos el caso 1, pero con 25 iteraciones;"
      ]
    },
    {
      "cell_type": "code",
      "metadata": {
        "id": "0lvjXErZZYlX"
      },
      "source": [
        "model.fit(train_images, train_labels,\n",
        "            batch_size=100,\n",
        "            epochs=25,\n",
        "            verbose = 1)"
      ],
      "execution_count": null,
      "outputs": []
    },
    {
      "cell_type": "code",
      "metadata": {
        "id": "8VhTf25-ZatY"
      },
      "source": [
        "test_loss, test_acc = model.evaluate(test_images, test_labels)\n",
        "\n",
        "print('Test accuracy:', test_acc)"
      ],
      "execution_count": null,
      "outputs": []
    },
    {
      "cell_type": "markdown",
      "metadata": {
        "id": "mU7zKgTobDZ_"
      },
      "source": [
        "En este caso, la precisión aumenta un poco, pero es como hemos mencionado antes. No vale la pena entrenar de más al sistema para obtener un 1% más de precisión si luego puede que falle con otros datos."
      ]
    },
    {
      "cell_type": "markdown",
      "metadata": {
        "id": "tJXVklnqb7Fe"
      },
      "source": [
        "##Apartado 4"
      ]
    },
    {
      "cell_type": "markdown",
      "metadata": {
        "id": "gKhcGIZsb9Tr"
      },
      "source": [
        "Para este caso, cogeremos el caso 1 y pondremos la función de activación de las neuronas el siguiente : tanh"
      ]
    },
    {
      "cell_type": "markdown",
      "metadata": {
        "id": "xGyg4fu_cZ4r"
      },
      "source": [
        "Capa 1:"
      ]
    },
    {
      "cell_type": "code",
      "metadata": {
        "id": "ivG-TRKGcLYW"
      },
      "source": [
        "model = Sequential()\n",
        "model.add(Conv2D(32, (5, 5), activation='tanh', input_shape=(28, 28, 1), name='Capa1'))\n",
        "model.add(MaxPooling2D((2, 2)))\n",
        "model.summary()"
      ],
      "execution_count": null,
      "outputs": []
    },
    {
      "cell_type": "markdown",
      "metadata": {
        "id": "NKE9hCb8chO6"
      },
      "source": [
        "Capa 2"
      ]
    },
    {
      "cell_type": "code",
      "metadata": {
        "id": "o7LX7aJ_ciEY"
      },
      "source": [
        "model.add(Conv2D(64, (5, 5), activation='tanh', name='Capa2'))\n",
        "model.add(MaxPooling2D((2, 2)))\n",
        "model.summary()"
      ],
      "execution_count": null,
      "outputs": []
    },
    {
      "cell_type": "code",
      "metadata": {
        "id": "lS1lC5-scm5I"
      },
      "source": [
        "model.add(Flatten())\n",
        "model.add(Dense(10, activation='softmax'))\n",
        "model.summary()"
      ],
      "execution_count": null,
      "outputs": []
    },
    {
      "cell_type": "code",
      "metadata": {
        "id": "haCothaMcrVK"
      },
      "source": [
        "model.compile(loss='sparse_categorical_crossentropy',\n",
        "              optimizer='sgd',\n",
        "              metrics=['accuracy'])\n",
        "model.fit(train_images, train_labels,\n",
        "            batch_size=100,\n",
        "            epochs=5,\n",
        "            verbose = 1)"
      ],
      "execution_count": null,
      "outputs": []
    },
    {
      "cell_type": "code",
      "metadata": {
        "id": "UMDaTozUekIM"
      },
      "source": [
        "test_loss, test_acc = model.evaluate(test_images, test_labels)\n",
        "\n",
        "print('Test accuracy:', test_acc)"
      ],
      "execution_count": null,
      "outputs": []
    },
    {
      "cell_type": "markdown",
      "metadata": {
        "id": "U7jkBZ3reuK8"
      },
      "source": [
        "Al usar esta nueva función de optimización, el aprendizaje empeora (la precisión del test) bastante, por lo que podemos decir que esta no es la función óptima para este problema."
      ]
    },
    {
      "cell_type": "markdown",
      "metadata": {
        "id": "JRdepKkMNCe5"
      },
      "source": [
        "#Caso 2\n"
      ]
    },
    {
      "cell_type": "markdown",
      "metadata": {
        "id": "F3Xd4JaQbeTN"
      },
      "source": [
        ""
      ]
    },
    {
      "cell_type": "markdown",
      "metadata": {
        "id": "f32urNK0NKdJ"
      },
      "source": [
        "Para el caso 2, cambiamos la arquitectura de la neurona de esta manera (como las imagenes ya están cargadas del caso anterior, no hace falta volvarlas a preparar):\n"
      ]
    },
    {
      "cell_type": "markdown",
      "metadata": {
        "id": "pmVlKmgkWpXU"
      },
      "source": [
        "##Entrenamiento"
      ]
    },
    {
      "cell_type": "markdown",
      "metadata": {
        "id": "rdedMQ5mWqlF"
      },
      "source": [
        ""
      ]
    },
    {
      "cell_type": "code",
      "metadata": {
        "id": "jXMm87TiNOzw"
      },
      "source": [
        "model = Sequential()\n",
        "model.add(Conv2D(64, (7, 7), activation='relu', input_shape=(28, 28, 1), name='Capa1'))\n",
        "model.add(MaxPooling2D((2, 2)))\n",
        "model.summary()"
      ],
      "execution_count": null,
      "outputs": []
    },
    {
      "cell_type": "code",
      "metadata": {
        "id": "bV_udLyENY83"
      },
      "source": [
        "model.add(Conv2D(128, (3, 3), activation='relu', name='Capa2'))\n",
        "model.add(MaxPooling2D((2, 2)))\n",
        "model.summary()"
      ],
      "execution_count": null,
      "outputs": []
    },
    {
      "cell_type": "code",
      "metadata": {
        "id": "w7B4HPj6NwhR"
      },
      "source": [
        "model.add(Flatten())\n",
        "model.add(Dense(65, activation='softmax'))\n",
        "model.summary()"
      ],
      "execution_count": null,
      "outputs": []
    },
    {
      "cell_type": "code",
      "metadata": {
        "id": "H6UOdAfBTFhK"
      },
      "source": [
        "model.compile(loss='sparse_categorical_crossentropy',\n",
        "              optimizer='sgd',\n",
        "              metrics=['accuracy'])\n",
        "model.fit(train_images, train_labels,\n",
        "            batch_size=100,\n",
        "            epochs=5,\n",
        "            verbose = 1)"
      ],
      "execution_count": null,
      "outputs": []
    },
    {
      "cell_type": "code",
      "metadata": {
        "id": "nvVhk0p8TQjr"
      },
      "source": [
        "test_loss, test_acc = model.evaluate(test_images, test_labels)\n",
        "\n",
        "print('Test accuracy:', test_acc)"
      ],
      "execution_count": null,
      "outputs": []
    },
    {
      "cell_type": "markdown",
      "metadata": {
        "id": "rQx4yc2BW1pA"
      },
      "source": [
        "Para el caso 2, la precisión ha bajado en comparación con el caso 1. Esto se debe a que hemos aumentado el número de neuronas en ambas capas, por lo que la matriz de pesos que se genera es mayor y distribuye de distinta manera la información. Además, como hay más neuronas, esa información se \"especializa\" y pierde generalidad, por lo que cuando se enfrenta el test no está tan capacitado como en el caso 1. "
      ]
    },
    {
      "cell_type": "markdown",
      "metadata": {
        "id": "76xy21T4XmWM"
      },
      "source": [
        "#Caso 3\n"
      ]
    },
    {
      "cell_type": "markdown",
      "metadata": {
        "id": "e1mTibgrXqps"
      },
      "source": [
        "Para el caso 3 también cambiaremos la estrctura minimamente con los mismos datos de los casos anteriores:"
      ]
    },
    {
      "cell_type": "markdown",
      "metadata": {
        "id": "hoNYcu2KY2Ou"
      },
      "source": [
        "##Entrenamiento"
      ]
    },
    {
      "cell_type": "code",
      "metadata": {
        "id": "RH9m1GiNXqCD"
      },
      "source": [
        "model = Sequential()\n",
        "model.add(Conv2D(64, (7, 7), activation='relu', input_shape=(28, 28, 1), name='Capa1'))\n",
        "model.add(MaxPooling2D((2, 2)))\n",
        "model.summary()"
      ],
      "execution_count": null,
      "outputs": []
    },
    {
      "cell_type": "code",
      "metadata": {
        "id": "BczEKqYvX2t-"
      },
      "source": [
        "model.add(Conv2D(128, (3, 3), activation='relu', name='Capa2'))\n",
        "model.add(MaxPooling2D((2, 2)))\n",
        "model.summary()"
      ],
      "execution_count": null,
      "outputs": []
    },
    {
      "cell_type": "code",
      "metadata": {
        "id": "Exp8XvX1X9sc"
      },
      "source": [
        "model.add(Flatten())\n",
        "model.add(Dense(65, activation='softmax'))\n",
        "model.summary()"
      ],
      "execution_count": null,
      "outputs": []
    },
    {
      "cell_type": "code",
      "metadata": {
        "id": "URpmHoIKYBih"
      },
      "source": [
        "model.compile(loss='sparse_categorical_crossentropy',\n",
        "              optimizer='adam',\n",
        "              metrics=['accuracy'])\n",
        "model.fit(train_images, train_labels,\n",
        "            batch_size=100,\n",
        "            epochs=5,\n",
        "            verbose = 1)"
      ],
      "execution_count": null,
      "outputs": []
    },
    {
      "cell_type": "code",
      "metadata": {
        "id": "HGkQe7vpYVb2"
      },
      "source": [
        "test_loss, test_acc = model.evaluate(test_images, test_labels)\n",
        "\n",
        "print('Test accuracy:', test_acc)"
      ],
      "execution_count": null,
      "outputs": []
    },
    {
      "cell_type": "markdown",
      "metadata": {
        "id": "p_B3rhCBYdEg"
      },
      "source": [
        "Este caso es prácticamente el mismo que el caso 2, solo que cambia el optimizador de sigmoidea a adam. Este cambio es muy notorio porque la precisión de la red aumenta bastante, por lo que para este caso, el optimizador adam es mucho mejor."
      ]
    }
  ]
}